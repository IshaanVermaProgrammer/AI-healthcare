{
  "nbformat": 4,
  "nbformat_minor": 0,
  "metadata": {
    "colab": {
      "provenance": []
    },
    "kernelspec": {
      "name": "python3",
      "display_name": "Python 3"
    },
    "language_info": {
      "name": "python"
    }
  },
  "cells": [
    {
      "cell_type": "code",
      "execution_count": 1,
      "metadata": {
        "id": "oPQ2KQFrwp5o"
      },
      "outputs": [],
      "source": [
        "from tensorflow.keras.models import Sequential\n",
        "from tensorflow.keras.layers import Conv2D, MaxPool2D,Dropout, Flatten, Dense\n",
        "from tensorflow.keras.optimizers import Adam\n",
        "from tensorflow.keras.preprocessing.image import ImageDataGenerator\n",
        "import numpy as np\n",
        "import pandas as pd\n",
        "import matplotlib.pyplot as plt\n"
      ]
    },
    {
      "cell_type": "code",
      "source": [
        "!git clone https://github.com/IshaanVermaProgrammer/Chext-X-ray-Images-Data-Set.git"
      ],
      "metadata": {
        "id": "J1iJoFGdw1Ck"
      },
      "execution_count": null,
      "outputs": []
    },
    {
      "cell_type": "code",
      "source": [
        "import os\n",
        "\n",
        "main_dir = \"/content/Chext-X-ray-Images-Data-Set/DataSet/Data\"\n",
        "\n",
        "# SETTING TRAIN AND TEST DIRECTORY\n",
        "train_dir = os.path.join(main_dir, \"train\")\n",
        "test_dir = os.path.join(main_dir, \"test\")\n",
        "\n",
        "#SETING DIRECTORY FOR COVID AND NORMAL IMAGES DIRECTORY\n",
        "train_covid_dir = os.path.join(train_dir, \"COVID19\")\n",
        "train_normal_dir = os.path.join(train_dir, \"NORMAL\")\n",
        "\n",
        "test_covid_dir = os.path.join(test_dir, \"COVID19\")\n",
        "test_normal_dir = os.path.join(test_dir, \"NORMAL\")\n",
        "\n",
        "train_covid_names = os.listdir(train_covid_dir)\n",
        "train_normal_names = os.listdir(train_normal_dir)\n",
        "\n",
        "test_covid_names = os.listdir(test_covid_dir)\n",
        "test_normal_names = os.listdir(test_normal_dir)"
      ],
      "metadata": {
        "id": "DmMewInSyQW7"
      },
      "execution_count": null,
      "outputs": []
    },
    {
      "cell_type": "code",
      "source": [
        "import matplotlib.image as mpimg\n",
        "\n",
        "rows = 4\n",
        "columns = 4\n",
        "\n",
        "fig = plt.gcf()\n",
        "fig.set_size_inches(12,12)\n",
        "\n",
        "covid_img = [os.path.join(train_covid_dir, filename) for filename in train_covid_names[0:8]]\n",
        "normal_img = [os.path.join(train_normal_dir, filename) for filename in train_normal_names[0:8]]\n",
        "\n",
        "print(covid_img)\n",
        "print(normal_img)\n",
        "\n",
        "merged_img = covid_img + normal_img\n",
        "\n",
        "for i, img_path in enumerate(merged_img):\n",
        "  title = img_path.split(\"/\", 6)[6]\n",
        "  plot = plt.subplot(rows, columns, i+1)\n",
        "  plot.axis(\"Off\")\n",
        "  img = mpimg.imread(img_path)\n",
        "  plot.set_title(title, fontsize = 11)\n",
        "  plt.imshow(img, cmap= \"gray\")\n",
        "\n",
        "plt.show()"
      ],
      "metadata": {
        "colab": {
          "base_uri": "https://localhost:8080/",
          "height": 252
        },
        "id": "uUnkGKhpyXuk",
        "outputId": "c4093a12-8ab9-4125-b5db-c4d8a7fb9414"
      },
      "execution_count": 2,
      "outputs": [
        {
          "output_type": "error",
          "ename": "NameError",
          "evalue": "ignored",
          "traceback": [
            "\u001b[0;31m---------------------------------------------------------------------------\u001b[0m",
            "\u001b[0;31mNameError\u001b[0m                                 Traceback (most recent call last)",
            "\u001b[0;32m<ipython-input-2-9403b25c220b>\u001b[0m in \u001b[0;36m<module>\u001b[0;34m\u001b[0m\n\u001b[1;32m      7\u001b[0m \u001b[0mfig\u001b[0m\u001b[0;34m.\u001b[0m\u001b[0mset_size_inches\u001b[0m\u001b[0;34m(\u001b[0m\u001b[0;36m12\u001b[0m\u001b[0;34m,\u001b[0m\u001b[0;36m12\u001b[0m\u001b[0;34m)\u001b[0m\u001b[0;34m\u001b[0m\u001b[0;34m\u001b[0m\u001b[0m\n\u001b[1;32m      8\u001b[0m \u001b[0;34m\u001b[0m\u001b[0m\n\u001b[0;32m----> 9\u001b[0;31m \u001b[0mcovid_img\u001b[0m \u001b[0;34m=\u001b[0m \u001b[0;34m[\u001b[0m\u001b[0mos\u001b[0m\u001b[0;34m.\u001b[0m\u001b[0mpath\u001b[0m\u001b[0;34m.\u001b[0m\u001b[0mjoin\u001b[0m\u001b[0;34m(\u001b[0m\u001b[0mtrain_covid_dir\u001b[0m\u001b[0;34m,\u001b[0m \u001b[0mfilename\u001b[0m\u001b[0;34m)\u001b[0m \u001b[0;32mfor\u001b[0m \u001b[0mfilename\u001b[0m \u001b[0;32min\u001b[0m \u001b[0mtrain_covid_names\u001b[0m\u001b[0;34m[\u001b[0m\u001b[0;36m0\u001b[0m\u001b[0;34m:\u001b[0m\u001b[0;36m8\u001b[0m\u001b[0;34m]\u001b[0m\u001b[0;34m]\u001b[0m\u001b[0;34m\u001b[0m\u001b[0;34m\u001b[0m\u001b[0m\n\u001b[0m\u001b[1;32m     10\u001b[0m \u001b[0mnormal_img\u001b[0m \u001b[0;34m=\u001b[0m \u001b[0;34m[\u001b[0m\u001b[0mos\u001b[0m\u001b[0;34m.\u001b[0m\u001b[0mpath\u001b[0m\u001b[0;34m.\u001b[0m\u001b[0mjoin\u001b[0m\u001b[0;34m(\u001b[0m\u001b[0mtrain_normal_dir\u001b[0m\u001b[0;34m,\u001b[0m \u001b[0mfilename\u001b[0m\u001b[0;34m)\u001b[0m \u001b[0;32mfor\u001b[0m \u001b[0mfilename\u001b[0m \u001b[0;32min\u001b[0m \u001b[0mtrain_normal_names\u001b[0m\u001b[0;34m[\u001b[0m\u001b[0;36m0\u001b[0m\u001b[0;34m:\u001b[0m\u001b[0;36m8\u001b[0m\u001b[0;34m]\u001b[0m\u001b[0;34m]\u001b[0m\u001b[0;34m\u001b[0m\u001b[0;34m\u001b[0m\u001b[0m\n\u001b[1;32m     11\u001b[0m \u001b[0;34m\u001b[0m\u001b[0m\n",
            "\u001b[0;31mNameError\u001b[0m: name 'train_covid_names' is not defined"
          ]
        },
        {
          "output_type": "display_data",
          "data": {
            "text/plain": [
              "<Figure size 864x864 with 0 Axes>"
            ]
          },
          "metadata": {}
        }
      ]
    },
    {
      "cell_type": "code",
      "source": [
        "# CREATING TRAINING, TESTING AND VALIDATION BATCHES\n",
        "\n",
        "dgen_train = ImageDataGenerator(rescale = 1./255,\n",
        "                                validation_split = 0.2,\n",
        "                                zoom_range = 0.2,\n",
        "                                horizontal_flip = True)\n",
        "\n",
        "dgen_validation = ImageDataGenerator(rescale = 1./255,\n",
        "                                     )\n",
        "\n",
        "dgen_test = ImageDataGenerator(rescale = 1./255,\n",
        "                              )\n",
        "\n",
        "train_generator = dgen_train.flow_from_directory(train_dir,\n",
        "                                                 target_size = (150, 150), \n",
        "                                                 subset = 'training',\n",
        "                                                 batch_size = 32,\n",
        "                                                 class_mode = 'binary')\n",
        "validation_generator = dgen_train.flow_from_directory(train_dir,\n",
        "                                                      target_size = (150, 150), \n",
        "                                                      subset = \"validation\", \n",
        "                                                      batch_size = 32, \n",
        "                                                      class_mode = \"binary\")\n",
        "test_generator = dgen_test.flow_from_directory(test_dir,\n",
        "                                               target_size = (150, 150), \n",
        "                                               batch_size = 32, \n",
        "                                               class_mode = \"binary\")\n",
        "\n",
        "\n",
        "print(\"Class Labels are: \", train_generator.class_indices)"
      ],
      "metadata": {
        "id": "28nKjL2gyd4Q"
      },
      "execution_count": null,
      "outputs": []
    },
    {
      "cell_type": "code",
      "source": [
        "from tensorflow.keras.layers import Conv2D, MaxPooling2D\n",
        "\n",
        "model = Sequential()\n",
        "\n",
        "# 1) CONVOLUTIONAL LAYER - 1\n",
        "model.add(Conv2D(32, (5,5), padding = \"same\", activation = \"relu\", input_shape = train_generator.image_shape))\n",
        "\n",
        "# 2) POOLING LAYER - 1\n",
        "model.add(MaxPooling2D(pool_size=(2,2)))\n",
        "\n",
        "# 3) DROPOUT LAYER -2\n",
        "model.add(Dropout(0.5))\n",
        "\n",
        "# 4) CONVOLUTIONAL LAYER - 2\n",
        "model.add(Conv2D(64, (5,5), padding = \"same\", activation = \"relu\"))\n",
        "\n",
        "# 5) POOLING LAYER - 2\n",
        "model.add(MaxPooling2D(pool_size=(2,2)))\n",
        "\n",
        "# 6) DROPOUT LAYER - 2\n",
        "model.add(Dropout(0.5))\n",
        "\n",
        "# 7) FLATTENING LAYER TO 2D SHAPE\n",
        "model.add(Flatten())\n",
        "\n",
        "# 8) ADDING A DENSE LAYER\n",
        "model.add(Dense(256, activation = 'relu'))\n",
        "\n",
        "# 9 DROPOUT LAYER - 3\n",
        "model.add(Dropout(0.5))\n",
        "\n",
        "# 10) FINAL OUTPUT LAYER\n",
        "model.add(Dense(1, activation = 'sigmoid'))\n",
        "\n",
        "\n"
      ],
      "metadata": {
        "id": "2sA6iIgyyiJf"
      },
      "execution_count": null,
      "outputs": []
    },
    {
      "cell_type": "code",
      "source": [
        "model.compile(Adam(learning_rate = 0.001), loss = 'binary_crossentropy', metrics = ['accuracy'])\n",
        "# TRAINING THE MODEL\n",
        "history = model.fit(train_generator, \n",
        "                    epochs = 35, \n",
        "                    validation_data = validation_generator)"
      ],
      "metadata": {
        "id": "2gKHQSxDyp9P"
      },
      "execution_count": null,
      "outputs": []
    },
    {
      "cell_type": "code",
      "source": [
        "test_loss, test_acc = model.evaluate(test_generator)\n",
        "print(\"Test Set Loss : \", test_loss)\n",
        "print(\"Test Set Accuracy : \", test_acc)"
      ],
      "metadata": {
        "id": "z4y17stEyyJC"
      },
      "execution_count": null,
      "outputs": []
    },
    {
      "cell_type": "code",
      "source": [
        "from google.colab import files\n",
        "from keras.preprocessing import image\n",
        "\n",
        "uploaded = files.upload()\n",
        "\n",
        "for filename in uploaded.keys():\n",
        "  img_path = '/content/' + filename\n",
        "  img = image.load_img(img_path, target_size = (150,150))\n",
        "  images = image.img_to_array(img)\n",
        "  images = np.expand_dims(images, axis = 0)\n",
        "  prediction = model.predict(images)\n",
        "  \n",
        "  if prediction == 0:\n",
        "    print(\"The report is COVID-19 Positive\")\n",
        "  else:\n",
        "    print(\"The report is COVID-19 Negative\")"
      ],
      "metadata": {
        "id": "XD_-fIlfy3-J"
      },
      "execution_count": null,
      "outputs": []
    }
  ]
}